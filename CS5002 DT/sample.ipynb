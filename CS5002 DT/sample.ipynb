{
 "metadata": {
  "language_info": {
   "codemirror_mode": {
    "name": "ipython",
    "version": 3
   },
   "file_extension": ".py",
   "mimetype": "text/x-python",
   "name": "python",
   "nbconvert_exporter": "python",
   "pygments_lexer": "ipython3",
   "version": "3.8.5-final"
  },
  "orig_nbformat": 2,
  "kernelspec": {
   "name": "python3",
   "display_name": "Python 3",
   "language": "python"
  }
 },
 "nbformat": 4,
 "nbformat_minor": 2,
 "cells": [
  {
   "cell_type": "code",
   "execution_count": 2,
   "metadata": {},
   "outputs": [
    {
     "output_type": "stream",
     "name": "stdout",
     "text": [
      "All modules have been imported\n"
     ]
    }
   ],
   "source": [
    "import pandas as pd\n",
    "from __future__ import print_function\n",
    "print('All modules have been imported')"
   ]
  },
  {
   "source": [
    "#Grocery Dataset\n",
    "#format: each row is an example\n",
    "#we will choose the last row as the label (Reorder or not)\n",
    "#the first four columns will be the features (dept, dow, hour, weeks_prior, label) \n",
    "\n",
    "training_data = [\n",
    "    ['processed food','weekday','before noon','2', 1 ],\n",
    "    ['fresh food','weekday','after noon','2+', 1 ],\n",
    "    ['fresh food','weekday','after noon','1', 1 ],\n",
    "    ['processed food','weekday','before noon','2+', 1 ],\n",
    "    ['fresh food','weekend','after noon','2+', 1 ],\n",
    "    ['fresh food','weekday','before noon','2+', 0 ],\n",
    "    ['processed food','weekday','before noon','2+', 0 ],\n",
    "    ['processed food','weekday','after noon','2+', 0 ],\n",
    "\n",
    "]\n",
    "\n",
    "#removed miscellaneous as it only leads to a leaf node, spoiling the model"
   ],
   "cell_type": "code",
   "metadata": {},
   "execution_count": null,
   "outputs": []
  },
  {
   "cell_type": "code",
   "execution_count": 61,
   "metadata": {},
   "outputs": [],
   "source": [
    "#Labeling the columns\n",
    "header = ['Department', 'Day of the week', 'Hour of the day', 'Weeks prior', 'Label']"
   ]
  },
  {
   "cell_type": "code",
   "execution_count": 62,
   "metadata": {},
   "outputs": [],
   "source": [
    "#testing for unique values present with a function\n",
    "def unique(rows,col):\n",
    "    return set([row[col] for row in rows])"
   ]
  },
  {
   "cell_type": "code",
   "execution_count": 63,
   "metadata": {},
   "outputs": [
    {
     "output_type": "execute_result",
     "data": {
      "text/plain": [
       "{'after noon', 'before noon'}"
      ]
     },
     "metadata": {},
     "execution_count": 63
    }
   ],
   "source": [
    "#Testing the unique function:\n",
    "unique(training_data, 0)\n",
    "unique(training_data, 1)\n",
    "unique(training_data, 2)\n",
    "#out put is returned in the form of a set since we do not want a repeat value\n"
   ]
  },
  {
   "cell_type": "code",
   "execution_count": 64,
   "metadata": {},
   "outputs": [],
   "source": [
    "#counting the number of reorders\n",
    "def count(rows):\n",
    "    counts = {} #dictionary always makes counting easy of the labels\n",
    "    for row in rows:\n",
    "\n",
    "        label = row[-1] #our label(reorder or not) is the last column\n",
    "        if label not in counts:\n",
    "            counts[label] = 0\n",
    "        counts[label] += 1\n",
    "    return counts\n"
   ]
  },
  {
   "cell_type": "code",
   "execution_count": 65,
   "metadata": {},
   "outputs": [
    {
     "output_type": "execute_result",
     "data": {
      "text/plain": [
       "{1: 5, 0: 3}"
      ]
     },
     "metadata": {},
     "execution_count": 65
    }
   ],
   "source": [
    "#Testing the count function:\n",
    "count(training_data) #successful"
   ]
  },
  {
   "cell_type": "code",
   "execution_count": 66,
   "metadata": {},
   "outputs": [],
   "source": [
    "class Question:\n",
    "    #A decision tree will ask questions to classify a dataset\n",
    "    #Our class will record a column number (e.g 0 for department) and three column values \n",
    "    #(e.g fresh, processed or misc.)\n",
    "    #A match method will be used to compare the feature value in an example with a feature value\n",
    "    #stored in the question\n",
    "\n",
    "    def __init__(self, column, value):\n",
    "\n",
    "        self.column = column\n",
    "        self.value = value\n",
    "\n",
    "    def match(self, example):\n",
    "        #Will be used to compare a feature in an example to a feature in the question\n",
    "        val = example[self.column]\n",
    "        return val == self.value\n",
    "\n",
    "\n",
    "    def __repr__(self):\n",
    "        #prints the question in a readable format\n",
    "        condition = '=='\n",
    "        return \"Is %s %s %s ?\" % (header[self.column],condition, self.value)\n"
   ]
  },
  {
   "cell_type": "code",
   "execution_count": 67,
   "metadata": {},
   "outputs": [
    {
     "output_type": "execute_result",
     "data": {
      "text/plain": [
       "Is Department == processed food ?"
      ]
     },
     "metadata": {},
     "execution_count": 67
    }
   ],
   "source": [
    "Question(0,'processed food') #testing out if the question works!"
   ]
  },
  {
   "cell_type": "code",
   "execution_count": 68,
   "metadata": {},
   "outputs": [
    {
     "output_type": "execute_result",
     "data": {
      "text/plain": [
       "Is Department == processed food ?"
      ]
     },
     "metadata": {},
     "execution_count": 68
    }
   ],
   "source": [
    "q = Question(0, 'processed food') #another example \n",
    "q"
   ]
  },
  {
   "cell_type": "code",
   "execution_count": 69,
   "metadata": {},
   "outputs": [
    {
     "output_type": "execute_result",
     "data": {
      "text/plain": [
       "True"
      ]
     },
     "metadata": {},
     "execution_count": 69
    }
   ],
   "source": [
    "#Now the big moment, testing with an example to match a feature\n",
    "example = training_data[0]\n",
    "\n",
    "q.match(example) #Success, it returns True since the first item which is a list in itself in the training \n",
    "#data has 'processed food present in it"
   ]
  },
  {
   "cell_type": "code",
   "execution_count": 70,
   "metadata": {},
   "outputs": [],
   "source": [
    "#Partition\n",
    "#function to partition the dataset in true(example matches the question) and false(example not match the question)\n",
    "def partition(rows, question):\n",
    "    true, false = [], []\n",
    "    for row in rows:\n",
    "        if question.match(row):\n",
    "            true.append(row)\n",
    "        else:\n",
    "            false.append(row)\n",
    "    return true, false\n"
   ]
  },
  {
   "cell_type": "code",
   "execution_count": 71,
   "metadata": {},
   "outputs": [
    {
     "output_type": "execute_result",
     "data": {
      "text/plain": [
       "[['processed food', 'weekday', 'before noon', '2', 1],\n",
       " ['processed food', 'weekday', 'before noon', '2+', 1],\n",
       " ['processed food', 'weekday', 'before noon', '2+', 0],\n",
       " ['processed food', 'weekday', 'after noon', '2+', 0]]"
      ]
     },
     "metadata": {},
     "execution_count": 71
    }
   ],
   "source": [
    "#we will test if the function partition works!\n",
    "#we will partition based on weather the row has processed food\n",
    "true, false = partition(training_data, Question(0, 'processed food'))\n",
    "#check for true rows: should have processed food\n",
    "true"
   ]
  },
  {
   "cell_type": "code",
   "execution_count": 72,
   "metadata": {},
   "outputs": [
    {
     "output_type": "execute_result",
     "data": {
      "text/plain": [
       "[['fresh food', 'weekday', 'after noon', '2+', 1],\n",
       " ['fresh food', 'weekday', 'after noon', '1', 1],\n",
       " ['fresh food', 'weekend', 'after noon', '2+', 1],\n",
       " ['fresh food', 'weekday', 'before noon', '2+', 0]]"
      ]
     },
     "metadata": {},
     "execution_count": 72
    }
   ],
   "source": [
    "#The following rows should not have anything related to processed food\n",
    "false"
   ]
  },
  {
   "cell_type": "code",
   "execution_count": 73,
   "metadata": {},
   "outputs": [],
   "source": [
    "#gini calculations\n",
    "#calculating the gini impurity for a list of rows\n",
    "def gini(rows):\n",
    "\n",
    "    counting = count(rows)\n",
    "    impurity = 1\n",
    "    for i in counting:\n",
    "        prob = counting[i] / float(len(rows))\n",
    "        impurity -= prob**2\n",
    "    return impurity"
   ]
  },
  {
   "cell_type": "code",
   "execution_count": 74,
   "metadata": {},
   "outputs": [
    {
     "output_type": "execute_result",
     "data": {
      "text/plain": [
       "0.0"
      ]
     },
     "metadata": {},
     "execution_count": 74
    }
   ],
   "source": [
    "#testing out the gini function\n",
    "pure = [['fresh food'],['fresh food']]\n",
    "#should return a gini impurity of 0\n",
    "gini(pure)"
   ]
  },
  {
   "cell_type": "code",
   "execution_count": 75,
   "metadata": {},
   "outputs": [
    {
     "output_type": "execute_result",
     "data": {
      "text/plain": [
       "0.6666666666666665"
      ]
     },
     "metadata": {},
     "execution_count": 75
    }
   ],
   "source": [
    "#impure sample testing\n",
    "impure = [['fresh food'], ['processed food'], ['miscellaneous']]\n",
    "gini(impure)\n",
    "#should return a value !=0"
   ]
  },
  {
   "cell_type": "code",
   "execution_count": 76,
   "metadata": {},
   "outputs": [],
   "source": [
    "def info_gain(left, right, present_uncertainity):\n",
    "    #Information gain = uncertainity of root node minus the weighted impurity of two child nodes\n",
    "\n",
    "    p = float(len(left)) / (len(left) + len(right))\n",
    "    return present_uncertainity - p * gini(left) - (1-p) * gini(right)\n"
   ]
  },
  {
   "cell_type": "code",
   "execution_count": 77,
   "metadata": {},
   "outputs": [
    {
     "output_type": "execute_result",
     "data": {
      "text/plain": [
       "0.46875"
      ]
     },
     "metadata": {},
     "execution_count": 77
    }
   ],
   "source": [
    "#testing the uncertainity of the training set\n",
    "present_uncertainity = gini(training_data)\n",
    "present_uncertainity"
   ]
  },
  {
   "cell_type": "code",
   "execution_count": 78,
   "metadata": {},
   "outputs": [
    {
     "output_type": "execute_result",
     "data": {
      "text/plain": [
       "0.03125"
      ]
     },
     "metadata": {},
     "execution_count": 78
    }
   ],
   "source": [
    "#how much information we will gain by partitioning on processed food?\n",
    "true, false = partition(training_data,Question(0, 'processed food'))\n",
    "info_gain(true, false, present_uncertainity)"
   ]
  },
  {
   "cell_type": "code",
   "execution_count": 79,
   "metadata": {},
   "outputs": [
    {
     "output_type": "execute_result",
     "data": {
      "text/plain": [
       "0.03125"
      ]
     },
     "metadata": {},
     "execution_count": 79
    }
   ],
   "source": [
    "#what if partitioned on fresh food?\n",
    "true, false = partition(training_data,Question(0, 'fresh food'))\n",
    "info_gain(true, false, present_uncertainity)"
   ]
  },
  {
   "cell_type": "code",
   "execution_count": 80,
   "metadata": {},
   "outputs": [
    {
     "output_type": "execute_result",
     "data": {
      "text/plain": [
       "0.0"
      ]
     },
     "metadata": {},
     "execution_count": 80
    }
   ],
   "source": [
    "true, false = partition(training_data,Question(0, 'miscellaneous'))\n",
    "info_gain(true, false, present_uncertainity)"
   ]
  },
  {
   "cell_type": "code",
   "execution_count": 81,
   "metadata": {},
   "outputs": [
    {
     "output_type": "execute_result",
     "data": {
      "text/plain": [
       "[]"
      ]
     },
     "metadata": {},
     "execution_count": 81
    }
   ],
   "source": [
    "#from the above calculations, we see we gained more information from the miscellaneous\n",
    "#we can look for the rows that give us more jumbled up data\n",
    "\n",
    "true, false = partition(training_data,Question(0, 'miscellaneous'))\n",
    "true\n",
    "#true rows only have no reorder! # clean and easy to separate data"
   ]
  },
  {
   "cell_type": "code",
   "execution_count": 82,
   "metadata": {},
   "outputs": [
    {
     "output_type": "execute_result",
     "data": {
      "text/plain": [
       "[['processed food', 'weekday', 'before noon', '2', 1],\n",
       " ['fresh food', 'weekday', 'after noon', '2+', 1],\n",
       " ['fresh food', 'weekday', 'after noon', '1', 1],\n",
       " ['processed food', 'weekday', 'before noon', '2+', 1],\n",
       " ['fresh food', 'weekend', 'after noon', '2+', 1],\n",
       " ['fresh food', 'weekday', 'before noon', '2+', 0],\n",
       " ['processed food', 'weekday', 'before noon', '2+', 0],\n",
       " ['processed food', 'weekday', 'after noon', '2+', 0]]"
      ]
     },
     "metadata": {},
     "execution_count": 82
    }
   ],
   "source": [
    "false"
   ]
  },
  {
   "cell_type": "code",
   "execution_count": 83,
   "metadata": {},
   "outputs": [
    {
     "output_type": "execute_result",
     "data": {
      "text/plain": [
       "[['fresh food', 'weekday', 'after noon', '2+', 1],\n",
       " ['fresh food', 'weekday', 'after noon', '1', 1],\n",
       " ['fresh food', 'weekend', 'after noon', '2+', 1],\n",
       " ['fresh food', 'weekday', 'before noon', '2+', 0]]"
      ]
     },
     "metadata": {},
     "execution_count": 83
    }
   ],
   "source": [
    "true, false = partition(training_data,Question(0, 'fresh food'))\n",
    "true"
   ]
  },
  {
   "cell_type": "code",
   "execution_count": 84,
   "metadata": {},
   "outputs": [
    {
     "output_type": "execute_result",
     "data": {
      "text/plain": [
       "[['processed food', 'weekday', 'before noon', '2', 1],\n",
       " ['processed food', 'weekday', 'before noon', '2+', 1],\n",
       " ['processed food', 'weekday', 'before noon', '2+', 0],\n",
       " ['processed food', 'weekday', 'after noon', '2+', 0]]"
      ]
     },
     "metadata": {},
     "execution_count": 84
    }
   ],
   "source": [
    "true, false = partition(training_data,Question(0, 'processed food'))\n",
    "true"
   ]
  },
  {
   "cell_type": "code",
   "execution_count": 85,
   "metadata": {},
   "outputs": [],
   "source": [
    "#Time for the real game!\n",
    "def best_split(rows):\n",
    "    #we will find the best question to ask by going over every feature and calculate the information gain\n",
    "    best_gain = 0 # initialized and tracking the best information gain\n",
    "    best_question = None #initialized and keeping track of the feature/value that produced it\n",
    "    present_uncertainity = gini(rows)\n",
    "    n_features = len(rows[0]) - 1 #number of columns\n",
    "\n",
    "    for col in range(n_features): #iterate over every feature\n",
    "\n",
    "        values = set([row[col] for row in rows]) #for the different values of the column\n",
    "        for val in values: #every value considered\n",
    "            question = Question(col, val)\n",
    "\n",
    "            #split the dataset\n",
    "            true, false = partition(rows, question)\n",
    "            #we shall skip the split if the dataset is not not divided\n",
    "            if len(true) == 0 or len(false) == 0:\n",
    "                continue\n",
    "            #calculate the info gain from the split\n",
    "            gain = info_gain(true, false, present_uncertainity)\n",
    "\n",
    "            if gain >= best_gain:\n",
    "                best_gain, best_question = gain, question\n",
    "    return best_gain, best_question\n"
   ]
  },
  {
   "cell_type": "code",
   "execution_count": 86,
   "metadata": {},
   "outputs": [
    {
     "output_type": "execute_result",
     "data": {
      "text/plain": [
       "Is Weeks prior == 2+ ?"
      ]
     },
     "metadata": {},
     "execution_count": 86
    }
   ],
   "source": [
    "#Real test! What is the best question to ask for our dataset?\n",
    "best_gain, best_question = best_split(training_data)\n",
    "best_question"
   ]
  },
  {
   "cell_type": "code",
   "execution_count": 87,
   "metadata": {},
   "outputs": [],
   "source": [
    "class Leaf:\n",
    "    #leaf node to classify the data, number of times a value will occur in each row such as processed food\n",
    "\n",
    "    def __init__(self, rows):\n",
    "        self.predictions = count(rows)"
   ]
  },
  {
   "cell_type": "code",
   "execution_count": 88,
   "metadata": {},
   "outputs": [],
   "source": [
    "class Decision_Node:\n",
    "    #the node that will ask the questions!\n",
    "    #will lead to the division into child nodes\n",
    "\n",
    "    def __init__(self, question, true_branch, false_branch):\n",
    "        self.question = question\n",
    "        self. true_branch = true_branch\n",
    "        self.false_branch = false_branch"
   ]
  },
  {
   "cell_type": "code",
   "execution_count": 89,
   "metadata": {},
   "outputs": [],
   "source": [
    "def build_tree(rows):\n",
    "    #we shall try to partition the dataset on unique attributes, calculate the info gain and return the \n",
    "    #question which has the highest gain\n",
    "\n",
    "    gain, question = best_split(rows)\n",
    "\n",
    "    #base case: when there is no info gain, no questions to ask\n",
    "    # a leaf node is returned\n",
    "    if gain == 0:\n",
    "        return Leaf(rows)\n",
    "\n",
    "    #From here, useful information feature found that can be used to partition\n",
    "    true, false = partition(rows, question)\n",
    "\n",
    "    #RECURSION: building the true branch\n",
    "    true_branch = build_tree(true)\n",
    "\n",
    "    #RECURSION: building the false branch\n",
    "    false_branch = build_tree(false)\n",
    "\n",
    "    #Lastly we shall return the Decision node, that will have the best question to ask at the point\n",
    "    #depending on the answer\n",
    "\n",
    "    return Decision_Node(question, true_branch, false_branch)\n"
   ]
  },
  {
   "cell_type": "code",
   "execution_count": 90,
   "metadata": {},
   "outputs": [],
   "source": [
    "def print_tree(node, spacing = ''):\n",
    "    #formating the printing of the decision tree\n",
    "\n",
    "    #Base case:\n",
    "    if isinstance(node, Leaf):\n",
    "        print(spacing + 'Predict', node.predictions)\n",
    "        return\n",
    "\n",
    "    #printing of question at the node\n",
    "    print(spacing + str(node.question))\n",
    "\n",
    "    #recursion on the true branch\n",
    "    print(spacing + '--> True:')\n",
    "    print_tree(node.true_branch, spacing + '  ')\n",
    "\n",
    "    #recursion on the false branch\n",
    "    print(spacing + '--> False:')\n",
    "    print_tree(node.true_branch, spacing + '  ')\n"
   ]
  },
  {
   "cell_type": "code",
   "execution_count": 91,
   "metadata": {},
   "outputs": [],
   "source": [
    "my_tree = build_tree(training_data)"
   ]
  },
  {
   "cell_type": "code",
   "execution_count": 92,
   "metadata": {},
   "outputs": [
    {
     "output_type": "stream",
     "name": "stdout",
     "text": [
      "Is Weeks prior == 2+ ?\n--> True:\n  Is Day of the week == weekend ?\n  --> True:\n    Predict {1: 1}\n  --> False:\n    Predict {1: 1}\n--> False:\n  Is Day of the week == weekend ?\n  --> True:\n    Predict {1: 1}\n  --> False:\n    Predict {1: 1}\n"
     ]
    }
   ],
   "source": [
    "print_tree(my_tree)"
   ]
  },
  {
   "cell_type": "code",
   "execution_count": 93,
   "metadata": {},
   "outputs": [],
   "source": [
    "def classify(row, node):\n",
    "\n",
    "    #Base case: when we reach a leaf node\n",
    "    if isinstance(node, Leaf):\n",
    "        return node.predictions\n",
    "\n",
    "    #whether to go to the true branch or false branch?\n",
    "    #will compare feature stored in the node to the example\n",
    "\n",
    "    if node.question.match(row):\n",
    "        return classify(row, node.true_branch)\n",
    "    else:\n",
    "        return classify(row, node.false_branch)\n",
    "        "
   ]
  },
  {
   "source": [
    "#testing!\n",
    "classify(training_data[0], my_tree)"
   ],
   "cell_type": "code",
   "metadata": {},
   "execution_count": null,
   "outputs": []
  },
  {
   "cell_type": "code",
   "execution_count": 95,
   "metadata": {},
   "outputs": [],
   "source": [
    "#making probabilities:\n",
    "def print_leaf(count):\n",
    "\n",
    "    total = sum(count.values()) * 1\n",
    "    probs = {}\n",
    "    for lbl in count.keys():\n",
    "        probs[lbl] = str(int(count[lbl] / total * 100)) + '%'\n",
    "    return probs"
   ]
  },
  {
   "cell_type": "code",
   "execution_count": 97,
   "metadata": {},
   "outputs": [
    {
     "output_type": "execute_result",
     "data": {
      "text/plain": [
       "{1: '100%'}"
      ]
     },
     "metadata": {},
     "execution_count": 97
    }
   ],
   "source": [
    "#testing\n",
    "print_leaf(classify(training_data[0], my_tree))"
   ]
  },
  {
   "cell_type": "code",
   "execution_count": 102,
   "metadata": {},
   "outputs": [],
   "source": [
    "#Evaluation:\n",
    "testing_data = [\n",
    "    ['fresh food','weekend','after noon','2+', 0 ],\n",
    "    ['fresh food','weekend','after noon','2+',1],\n",
    "    ['fresh food','weekday','before noon','2',1],\n",
    "    ['fresh food','weekday','before noon','2',1],\n",
    "    ['fresh food','weekday','before noon','2',1],\n",
    "    ['processed food','weekday','before noon','2',1],\n",
    "    ['processed food','weekday','before noon','2',1],\n",
    "    ['processed food','weekday','before noon','2',1],\n",
    "    ['processed food','weekday','before noon','2',1],\n",
    "    ['processed food','weekday','before noon','2',1],\n",
    "    ['processed food','weekday','before noon','2',1],\n",
    "    ['processed food','weekday','before noon','2',1],\n",
    "    ['processed food','weekday','before noon','2',1],\n",
    "    ['processed food','weekday','before noon','2',1],\n",
    "    ['processed food','weekend','before noon','2',0],\n",
    "    ['processed food','weekend','before noon','2',0],\n",
    "    ['processed food','weekend','after noon','2',1],\n",
    "    ['processed food','weekday','before noon','2+',0],\n",
    "    ['processed food','weekday','after noon','2+',0],\n",
    "    ['processed food','weekday','after noon','2+',0],\n",
    "    ['processed food','weekend','before noon','2+',0],\n",
    "    ['processed food','weekend','before noon','2+',0],\n",
    "    ['processed food','weekday','before noon','2',1],\n",
    "    ['processed food','weekend','before noon','2+',0],\n",
    "    ['processed food','weekend','before noon','2',0],\n",
    "    ['processed food','weekend','after noon','2',0],\n",
    "    ['processed food','weekend','after noon','2',1],\n",
    "    ['processed food','weekday','after noon','2+',0],\n",
    "    ['processed food','weekday','after noon','2+',0],\n",
    "    ['processed food','weekday','after noon','2+',0],\n",
    "    ['fresh food','weekend','after noon','2+',0],\n",
    "    ['fresh food','weekend','after noon','2+',0],\n",
    "    ['fresh food','weekend','after noon','2+',0],\n",
    "    ['fresh food','weekend','after noon','2+',0],\n",
    "    ['fresh food','weekend','after noon','2+',0],\n",
    "    ['fresh food','weekend','after noon','2+',1],\n",
    "    ['fresh food','weekend','after noon','2+',1],\n",
    "    ['fresh food','weekend','after noon','2+',1],\n",
    "    ['fresh food','weekday','before noon','2',1],\n",
    "    ['fresh food','weekday','before noon','2',1],\n",
    "    ['fresh food','weekday','before noon','2',1],\n",
    "    ['fresh food','weekday','before noon','2',1],\n",
    "    ['fresh food','weekday','before noon','2',1],\n",
    "    ['fresh food','weekday','before noon','2',1],\n",
    "    ['fresh food','weekday','before noon','2',1],\n",
    "    ['fresh food','weekend','before noon','2+',0],\n",
    "    ['fresh food','weekday','before noon','1',1],\n",
    "    ['fresh food','weekday','before noon','1',1],\n",
    "    ['fresh food','weekday','before noon','1',1],\n",
    "    ['processed food','weekend','after noon','2+',0],\n",
    "    ['processed food','weekday','before noon','2',1],\n",
    "]"
   ]
  },
  {
   "source": [
    "for row in testing_data:\n",
    "    print('Actual: %s. Predicted: %s' %\n",
    "    (row[-1], print_leaf(classify(row, my_tree))))"
   ],
   "cell_type": "code",
   "metadata": {},
   "execution_count": null,
   "outputs": []
  },
  {
   "cell_type": "code",
   "execution_count": 104,
   "metadata": {},
   "outputs": [
    {
     "output_type": "stream",
     "name": "stdout",
     "text": [
      "70.0\n"
     ]
    }
   ],
   "source": [
    "print((35/50)*100)"
   ]
  }
 ]
}